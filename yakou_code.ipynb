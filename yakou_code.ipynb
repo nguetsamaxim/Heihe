{
 "cells": [
  {
   "cell_type": "markdown",
   "id": "386948ac",
   "metadata": {},
   "source": [
    "# Statistic Geospatial Model"
   ]
  },
  {
   "cell_type": "code",
   "execution_count": 2,
   "id": "d5423f43",
   "metadata": {},
   "outputs": [],
   "source": [
    "import pandas as pd\n",
    "import arcpy\n",
    "import os\n",
    "from arcpy.sa import *\n",
    "from arcpy import env\n",
    "import numpy as np\n",
    "import math\n",
    "from arcpy import env\n",
    "from arcpy.sa import *"
   ]
  },
  {
   "cell_type": "code",
   "execution_count": 3,
   "id": "98107920",
   "metadata": {},
   "outputs": [],
   "source": [
    "arcpy.env.workspace =r\"D:\\Maxim\\masterthesis\\YAK_TEST\\YAK_TEST\\Default.gdb\""
   ]
  },
  {
   "cell_type": "code",
   "execution_count": 4,
   "id": "9f25637f",
   "metadata": {},
   "outputs": [],
   "source": [
    "rasters = arcpy.ListRasters(\":.tif\")\n",
    "raster_list = arcpy.ListRasters(\"\") "
   ]
  },
  {
   "cell_type": "code",
   "execution_count": 5,
   "id": "24e22c5b",
   "metadata": {},
   "outputs": [
    {
     "name": "stdout",
     "output_type": "stream",
     "text": [
      "['Fill_DGM_PRO1', 'Fill_Clip_DG1', 'Fill_DGM_PRO2', 'Fill_Clip_DG2', 'FlowDir_Fill1', 'Basin_FlowDi1', 'FlowDir_DEM', 'FlowAcc_Flow4', 'FlowAcc_DEM_Clip', 'Reclass_Flowacc', 'Watersh_Flow1', 'Watersh_Flow2', 'Watersh_Flow3', 'Watersh_Flow4', 'Watersh_Flow5', 'Watersh_Flow6', 'Watersh_Flow7', 'Reclass_Flow1', 'Reclass_Flowacc_yakou', 'Clip_PanThirdPoleLandCoverDa', 'Clip_PanThirdPoleSoilTexture', 'Clip_Clip_PanThirdPoleSoilTe', 'Clip_PanThirdPoleSoilTexture2', 'SoilTexture', 'Clip_PanThirdPoleLandCoverDa1', 'LandCover', 'PanThirdPoleVegetationFunction', 'PanThirdPoleVegetationFuncti1', 'DGM', 'DGM_ProjectRaster', 'DGM_YAKOU', 'Slope_yakou', 'Aspect_Slope1', 'PermafrostZonation', 'PermafrostZonation_ProjectRa', 'Permafrost_zonationindex', 'TEMPERATURE', 'Vegetation1_Clip', 'rster_stream', 'PanThirdPolePermafros_proj', 'Clip_PanThirdPolePermafrost_proj', 'Clip_PanThirdPolePermafrostZ1', 'Clip_PanThirdPolePermafrostZ5', 'C', 'LandCoverMapofPanThirdPole_C', 'Soil_texture_pro', 'calculate_ras1', 'Aspect_Clip_1', 'AreaSol_C1', 'areasol_c1_r', 'Aspect_Slope2', 'cal1', 'Reclass_Clip1', 'Reclass_Clip2', 'Permafrost1', 'aspect_slop1', 'solar_radiat', 'solar_radia1', 'easthing_ras', 'solar_radia2', 'slope_new_ra', 'easthing_ra1', 'solar_radia3', 'Permafrost', 'Case1', 'Case11', 'Case2', 'Case3', 'Case4', 'Case5', 'Case6', 'Case7', 'Case8', 'Clip_PanThirdPoleDigitalElev', 'Slope_Clip_P1', 'Aspect_Slope_new', 'Aspect_Slope4', 'Clip_PanThirdPoleLandCoverDa2', 'Clip_PanThirdPoleSoilTexture1', 'Clip_PanThirdPoleVegetationF', 'AreaSol_Digi1', 'AreaSol_Clip1', 'landcover_ra', 'landcover_N', 'SoilTexture_N', 'Clip_PanThirdPoleSoilTexture3', 'soiltexture3_N', 'clip_panthir', 'Clip_PanThirdPolePermafrostZ', 'Clip_PanThirdPolePermafrostZ2', 'iax_053f3ea6_65c1_436d_ac86_06f22e5359d1_2118017424', 'Slope', 'iax_d14bb4e5_c93b_4034_8fff_7e565a94f169_1681225004', 'iax_ebdbbd16_d6cb_486d_9581_4c51d323508a_1681225004', 'iax_6b108f51_1622_40a5_8921_4c84fd384d1c_1681225004', 'iax_9595dafb_6a66_4a36_ac6c_0b10db888576_1681225004', 'iax_6fecb76e_8e61_4855_a097_713bf1143427_1681225004', 'iax_d13d2641_7e03_4879_ab17_980fe90b8ba7_1681225004', 'iax_8ef1a9e5_ef94_47bb_97e8_7ee25445cf88_1681225004', 'iax_e0c5fa3f_09fd_4113_8ef9_20a4668794d6_1681225004', 'iax_6ed5bbfa_9b8d_45cf_9724_9c4f7ce8abb7_1681225004', 'iax_70ce3a84_d08a_4468_b451_71c6efd3e965_1681225004', 'iax_c76d1b45_61c8_489f_bdf3_f364b1f0c45a_1681225004', 'iax_a372aa8b_d510_4dd3_b433_6b2be90683dc_1681225004', 'iax_b1289954_f0a1_4ae5_8a22_19bbeccd9929_1681225004', 'iax_858c11b6_9b99_4e48_af51_434c3790dee9_1681225004', 'Reclass_Aspe1', 'Aspect_Clip_3', 'AreaSol_DGM_1', 'plus_fc6de311_8de4_4a21_b24e_105e7d327fc7_3376023400', 'PanThirdPoleDigitalElevation', 'PanThirdPoleDigitalElevation1', 'Fill_PanThir1', 'FlowDir_Fill2', 'FlowAcc_Flow1', 'PanThirdPoleDigitalElevation2', 'PanThirdPoleDigitalElevation3', 'Slope_Heide', 'Aspect_Heide', 'Solar_radiation', 'PanThirdPoleLandCoverDataset', 'PanThirdPoleLandCoverDataset1', 'LandCover_Heide', 'LandCover_Heide_Clip', 'LandCover_Heide_Clip1', 'vegetationpanthird', 'vegetationpanthird_P', 'vegetationpanthird_P_Clip', 'vegetation', 'vegetationclip', 'vegetationclip_ProjectRaster', 'vegetationclip_ProjectRaster1', 'vegetationclip_ProjectRaster2', 'vegetation_Heide1', 'PanThirdPoleVegetationFuncti', 'PanThirdPoleVegetationFuncti2', 'Vegetation_Heide3', 'PanThirdPoleLandCoverDataset2', 'PanThirdPoleLandCoverDataset3', 'LandCover_Heide3', 'PanThirdPoleSoilTextureDatas', 'PanThirdPoleSoilTextureDatas1', 'SoilTexture_Heide3', 'PanThirdPolePermafrostZonati', 'PanThirdPolePermafrostZonati1', 'PanThirdPolePermafrostZonati2', 'Vegetation_Heide33', 'PanThirdPoleDigitalElevation4', 'PanThirdPoleDigitalElevation5', 'DEM_Heide3', 'plus_8f7a5038_125d_4f96_b9f0_0d4e18ae8e6b_1783216492', 'PanThirdPolePermafrostZonati33', 'PanThirdPolePermafrostZonati4', 'Permafrost_Heide33']\n"
     ]
    }
   ],
   "source": [
    "print(raster_list)"
   ]
  },
  {
   "cell_type": "code",
   "execution_count": 43,
   "id": "5f229d4d",
   "metadata": {},
   "outputs": [],
   "source": [
    "Slope=Raster(\"slope\")"
   ]
  },
  {
   "cell_type": "code",
   "execution_count": 44,
   "id": "b7f32516",
   "metadata": {},
   "outputs": [
    {
     "name": "stdout",
     "output_type": "stream",
     "text": [
      "Slope\n"
     ]
    }
   ],
   "source": [
    "print(\"Slope\")"
   ]
  },
  {
   "cell_type": "markdown",
   "id": "55aea4f6",
   "metadata": {},
   "source": [
    "Raster Normalisation"
   ]
  },
  {
   "cell_type": "code",
   "execution_count": 45,
   "id": "dfa1a0a1",
   "metadata": {},
   "outputs": [],
   "source": [
    "#call the raster \n",
    "Slope=Raster(\"Slope\")\n",
    "#calculating the normalisation\n",
    "Slope_N= ((Slope - Slope.minimum)/(Slope.maximum - Slope.minimum))"
   ]
  },
  {
   "cell_type": "code",
   "execution_count": 54,
   "id": "cb4c62da",
   "metadata": {},
   "outputs": [],
   "source": [
    "#make the same calculation for all the other raster\n",
    "Aspect=Raster(\"Aspect_Slope1\")\n",
    "Aspect_N= ((Aspect - Aspect.minimum)/(Aspect.maximum - Aspect.minimum))\n",
    "\n",
    "\n",
    "DGM=Raster(\"DGM_YAKOU\")\n",
    "DGM_N = ((DGM - DGM.minimum)/(DGM.maximum - DGM.minimum))"
   ]
  },
  {
   "cell_type": "code",
   "execution_count": 55,
   "id": "477c6ebb",
   "metadata": {},
   "outputs": [],
   "source": [
    "\n",
    "Solar_radiation=Raster(\"AreaSol_DGM_1\")\n",
    "Solar_radiation_N= ((Solar_radiation - Solar_radiation.minimum)/(Solar_radiation.maximum - Solar_radiation.minimum))"
   ]
  },
  {
   "cell_type": "markdown",
   "id": "d075e3ff",
   "metadata": {},
   "source": [
    "The Weight"
   ]
  },
  {
   "cell_type": "code",
   "execution_count": 76,
   "id": "2a49a6d5",
   "metadata": {},
   "outputs": [
    {
     "data": {
      "text/html": [
       "<div>\n",
       "<style scoped>\n",
       "    .dataframe tbody tr th:only-of-type {\n",
       "        vertical-align: middle;\n",
       "    }\n",
       "\n",
       "    .dataframe tbody tr th {\n",
       "        vertical-align: top;\n",
       "    }\n",
       "\n",
       "    .dataframe thead th {\n",
       "        text-align: right;\n",
       "    }\n",
       "</style>\n",
       "<table border=\"1\" class=\"dataframe\">\n",
       "  <thead>\n",
       "    <tr style=\"text-align: right;\">\n",
       "      <th></th>\n",
       "      <th>slope</th>\n",
       "      <th>Aspect</th>\n",
       "      <th>solar radiation</th>\n",
       "      <th>Elevation</th>\n",
       "      <th>total</th>\n",
       "    </tr>\n",
       "  </thead>\n",
       "  <tbody>\n",
       "    <tr>\n",
       "      <th>0</th>\n",
       "      <td>0.500</td>\n",
       "      <td>0.250</td>\n",
       "      <td>0.125</td>\n",
       "      <td>0.125</td>\n",
       "      <td>1</td>\n",
       "    </tr>\n",
       "    <tr>\n",
       "      <th>1</th>\n",
       "      <td>0.125</td>\n",
       "      <td>0.500</td>\n",
       "      <td>0.250</td>\n",
       "      <td>0.125</td>\n",
       "      <td>1</td>\n",
       "    </tr>\n",
       "    <tr>\n",
       "      <th>2</th>\n",
       "      <td>0.125</td>\n",
       "      <td>0.125</td>\n",
       "      <td>0.500</td>\n",
       "      <td>0.250</td>\n",
       "      <td>1</td>\n",
       "    </tr>\n",
       "    <tr>\n",
       "      <th>3</th>\n",
       "      <td>0.500</td>\n",
       "      <td>0.125</td>\n",
       "      <td>0.125</td>\n",
       "      <td>0.250</td>\n",
       "      <td>1</td>\n",
       "    </tr>\n",
       "    <tr>\n",
       "      <th>4</th>\n",
       "      <td>0.250</td>\n",
       "      <td>0.500</td>\n",
       "      <td>0.125</td>\n",
       "      <td>0.125</td>\n",
       "      <td>1</td>\n",
       "    </tr>\n",
       "    <tr>\n",
       "      <th>5</th>\n",
       "      <td>0.125</td>\n",
       "      <td>0.250</td>\n",
       "      <td>0.500</td>\n",
       "      <td>0.125</td>\n",
       "      <td>1</td>\n",
       "    </tr>\n",
       "    <tr>\n",
       "      <th>6</th>\n",
       "      <td>0.125</td>\n",
       "      <td>0.125</td>\n",
       "      <td>0.250</td>\n",
       "      <td>0.500</td>\n",
       "      <td>1</td>\n",
       "    </tr>\n",
       "    <tr>\n",
       "      <th>7</th>\n",
       "      <td>0.500</td>\n",
       "      <td>0.125</td>\n",
       "      <td>0.125</td>\n",
       "      <td>0.250</td>\n",
       "      <td>1</td>\n",
       "    </tr>\n",
       "    <tr>\n",
       "      <th>8</th>\n",
       "      <td>0.250</td>\n",
       "      <td>0.500</td>\n",
       "      <td>0.125</td>\n",
       "      <td>0.125</td>\n",
       "      <td>1</td>\n",
       "    </tr>\n",
       "    <tr>\n",
       "      <th>9</th>\n",
       "      <td>0.125</td>\n",
       "      <td>0.250</td>\n",
       "      <td>0.500</td>\n",
       "      <td>0.125</td>\n",
       "      <td>1</td>\n",
       "    </tr>\n",
       "    <tr>\n",
       "      <th>10</th>\n",
       "      <td>0.125</td>\n",
       "      <td>0.125</td>\n",
       "      <td>0.250</td>\n",
       "      <td>0.500</td>\n",
       "      <td>1</td>\n",
       "    </tr>\n",
       "    <tr>\n",
       "      <th>11</th>\n",
       "      <td>0.500</td>\n",
       "      <td>0.125</td>\n",
       "      <td>0.125</td>\n",
       "      <td>0.250</td>\n",
       "      <td>1</td>\n",
       "    </tr>\n",
       "    <tr>\n",
       "      <th>12</th>\n",
       "      <td>0.250</td>\n",
       "      <td>0.500</td>\n",
       "      <td>0.125</td>\n",
       "      <td>0.125</td>\n",
       "      <td>1</td>\n",
       "    </tr>\n",
       "    <tr>\n",
       "      <th>13</th>\n",
       "      <td>0.125</td>\n",
       "      <td>0.250</td>\n",
       "      <td>0.500</td>\n",
       "      <td>0.125</td>\n",
       "      <td>1</td>\n",
       "    </tr>\n",
       "    <tr>\n",
       "      <th>14</th>\n",
       "      <td>0.125</td>\n",
       "      <td>0.125</td>\n",
       "      <td>0.250</td>\n",
       "      <td>0.500</td>\n",
       "      <td>1</td>\n",
       "    </tr>\n",
       "    <tr>\n",
       "      <th>15</th>\n",
       "      <td>0.500</td>\n",
       "      <td>0.125</td>\n",
       "      <td>0.125</td>\n",
       "      <td>0.250</td>\n",
       "      <td>1</td>\n",
       "    </tr>\n",
       "    <tr>\n",
       "      <th>16</th>\n",
       "      <td>1.000</td>\n",
       "      <td>0.000</td>\n",
       "      <td>0.000</td>\n",
       "      <td>0.000</td>\n",
       "      <td>1</td>\n",
       "    </tr>\n",
       "    <tr>\n",
       "      <th>17</th>\n",
       "      <td>0.000</td>\n",
       "      <td>1.000</td>\n",
       "      <td>0.000</td>\n",
       "      <td>0.000</td>\n",
       "      <td>1</td>\n",
       "    </tr>\n",
       "    <tr>\n",
       "      <th>18</th>\n",
       "      <td>0.000</td>\n",
       "      <td>0.000</td>\n",
       "      <td>1.000</td>\n",
       "      <td>0.000</td>\n",
       "      <td>1</td>\n",
       "    </tr>\n",
       "    <tr>\n",
       "      <th>19</th>\n",
       "      <td>0.000</td>\n",
       "      <td>0.000</td>\n",
       "      <td>0.000</td>\n",
       "      <td>1.000</td>\n",
       "      <td>1</td>\n",
       "    </tr>\n",
       "    <tr>\n",
       "      <th>20</th>\n",
       "      <td>0.250</td>\n",
       "      <td>0.250</td>\n",
       "      <td>0.250</td>\n",
       "      <td>0.250</td>\n",
       "      <td>1</td>\n",
       "    </tr>\n",
       "  </tbody>\n",
       "</table>\n",
       "</div>"
      ],
      "text/plain": [
       "    slope  Aspect  solar radiation  Elevation  total\n",
       "0   0.500   0.250            0.125      0.125      1\n",
       "1   0.125   0.500            0.250      0.125      1\n",
       "2   0.125   0.125            0.500      0.250      1\n",
       "3   0.500   0.125            0.125      0.250      1\n",
       "4   0.250   0.500            0.125      0.125      1\n",
       "5   0.125   0.250            0.500      0.125      1\n",
       "6   0.125   0.125            0.250      0.500      1\n",
       "7   0.500   0.125            0.125      0.250      1\n",
       "8   0.250   0.500            0.125      0.125      1\n",
       "9   0.125   0.250            0.500      0.125      1\n",
       "10  0.125   0.125            0.250      0.500      1\n",
       "11  0.500   0.125            0.125      0.250      1\n",
       "12  0.250   0.500            0.125      0.125      1\n",
       "13  0.125   0.250            0.500      0.125      1\n",
       "14  0.125   0.125            0.250      0.500      1\n",
       "15  0.500   0.125            0.125      0.250      1\n",
       "16  1.000   0.000            0.000      0.000      1\n",
       "17  0.000   1.000            0.000      0.000      1\n",
       "18  0.000   0.000            1.000      0.000      1\n",
       "19  0.000   0.000            0.000      1.000      1\n",
       "20  0.250   0.250            0.250      0.250      1"
      ]
     },
     "execution_count": 76,
     "metadata": {},
     "output_type": "execute_result"
    }
   ],
   "source": [
    "#find the path\n",
    "file =('D:\\Maxim\\masterthesis\\Probabilitys.xlsx')\n",
    "newData = pd.read_excel(file)\n",
    "newData"
   ]
  },
  {
   "cell_type": "markdown",
   "id": "26af6d97",
   "metadata": {},
   "source": [
    "Calculating of the Active layer thinkness"
   ]
  },
  {
   "cell_type": "code",
   "execution_count": 91,
   "id": "01ced5aa",
   "metadata": {},
   "outputs": [],
   "source": [
    "#calculating of the different layer thinkness using the table of weight\n",
    "ALT_liste=[]\n",
    "for i,rows in newData.iterrows():\n",
    "    ALT=(rows[\"slope\"]*Slope_N + rows[\"Aspect\"]*Aspect_N + rows[\"solar radiation\"]*Solar_radiation_N + rows[\"Elevation\"]*DGM_N)\n",
    "    #add in the liste\n",
    "    ALT_liste.append(ALT)\n",
    "    ALT\n",
    "    #save als tif file\n",
    "    ALT.save(r\"D:\\Maxim\\masterthesis\\YAK_TEST\\ALT\"+str(i)+\"tif\")"
   ]
  },
  {
   "cell_type": "code",
   "execution_count": 93,
   "id": "aa115765",
   "metadata": {},
   "outputs": [],
   "source": [
    "#Normalisation of the 21 result\n",
    "ALT_liste_N=[]\n",
    "liste=[0,1,2,3,5,4,6,7,8,9,10,11,12,13,14,15,16,17,18,19,20]\n",
    "for i in  liste:\n",
    "    ALT_N = ( ALT_liste[i]) - ( ALT_liste[i].minimum)/ (( ALT_liste[i].maximum) - ( ALT_liste[i].minimum)) \n",
    "    #add in the  liste\n",
    "    ALT_N\n",
    "    ALT_liste_N.append( ALT_N)\n",
    "    #save als tif file\n",
    "    ALT_N.save(r\"D:\\Maxim\\masterthesis\\YAK_TEST\\ALT_N\" + str(i)+\".tif\") "
   ]
  },
  {
   "cell_type": "code",
   "execution_count": 94,
   "id": "72447d83",
   "metadata": {},
   "outputs": [],
   "source": [
    "#Original file \n",
    "ALT_original=Raster(\"Clip_PanThirdPolePermafrostZ2\")"
   ]
  },
  {
   "cell_type": "code",
   "execution_count": 98,
   "id": "d74dc9ac",
   "metadata": {},
   "outputs": [],
   "source": [
    "#Normalisation of the Original file\n",
    "ALT_original_N= Raster((ALT_original - ALT_original.minimum)/(ALT_original.maximum - ALT_original.minimum))\n",
    "#save als tif file\n",
    "ALT_original_N.save(r\"D:\\Maxim\\masterthesis\\YAK_TEST\\YAK_TEST\\Permafrost_original_N.\" + str(i)+\".tif\") "
   ]
  },
  {
   "cell_type": "markdown",
   "id": "0e488aa1",
   "metadata": {},
   "source": [
    "Standard deviation(not obligatory)"
   ]
  },
  {
   "cell_type": "code",
   "execution_count": 106,
   "id": "e8574882",
   "metadata": {},
   "outputs": [],
   "source": [
    "#calculating the difference between the original Active layer and each active layer\n",
    "DIFF=[]\n",
    "liste=[0,1,2,3,5,4,6,7,8,9,10,11,12,13,14,15,16,17,18,19,20]\n",
    "for i in  liste:\n",
    "    diff= ALT_original - ALT_liste[i]\n",
    "    DIFF.append(diff)\n",
    "    diff.save(r\"D:\\Maxim\\masterthesis\\YAK_TEST\\difference_.\" + str(i)+\".tif\") "
   ]
  },
  {
   "cell_type": "code",
   "execution_count": 108,
   "id": "b634fcb1",
   "metadata": {},
   "outputs": [],
   "source": [
    "#Calculating the standard deviation using arcpy\n",
    "Sd=[]\n",
    "SD_mean =[]\n",
    "for i in  liste:\n",
    "    X= arcpy.sa.Statistics(DIFF[i], 3, 3, \"standarddeviation\", True)\n",
    "    Sd.append(X)\n",
    "    X.save(r\"D:\\Maxim\\masterthesis\\YAK_TEST\\sd.\" + str(i)+\".tif\") \n",
    "    SD_mean.append(X.mean)"
   ]
  },
  {
   "cell_type": "code",
   "execution_count": null,
   "id": "367b6e89",
   "metadata": {},
   "outputs": [],
   "source": []
  },
  {
   "cell_type": "markdown",
   "id": "280414ce",
   "metadata": {},
   "source": [
    "ROOT MEAN SQUARE ERROR"
   ]
  },
  {
   "cell_type": "code",
   "execution_count": 99,
   "id": "650ceb2b",
   "metadata": {},
   "outputs": [],
   "source": [
    "#Root mean square error \n",
    "RMSE =[]\n",
    "for i in  liste:\n",
    "    A = arcpy.sa.Arithmetic ( ALT_liste[i],ALT_original,\"Minus\", \"FirstOf\", \"FirstOf\")\n",
    "    X = arcpy.sa.Arithmetic(A,A, \"Multiply\", \"FirstOf\", \"FirstOf\")\n",
    "    rmse = np.square(X.mean)\n",
    "    RMSE.append(rmse) "
   ]
  },
  {
   "cell_type": "code",
   "execution_count": 101,
   "id": "d9c77be2",
   "metadata": {},
   "outputs": [],
   "source": [
    "#Root mean square of the rasters after the normalisation\n",
    "RMSE_N=[]\n",
    "for i in  liste:\n",
    "    A = arcpy.sa.Arithmetic (ALT_liste_N[i], ALT_original_N,\"Minus\", \"FirstOf\", \"FirstOf\")\n",
    "    X = arcpy.sa.Arithmetic(A,A, \"Multiply\", \"FirstOf\", \"FirstOf\")\n",
    "    rmse = np.square(X.mean)\n",
    "    RMSE_N.append(rmse) "
   ]
  },
  {
   "cell_type": "markdown",
   "id": "06501a0c",
   "metadata": {},
   "source": [
    "Creating a table"
   ]
  },
  {
   "cell_type": "code",
   "execution_count": 112,
   "id": "2c31d510",
   "metadata": {},
   "outputs": [],
   "source": [
    "#Rows and colums\n",
    "case=[\"case1\",\"case2\",\"case3\",\"case4\",\"case5\",\"case6\",\"case7\",\"case8\",\"case9\",\"case10\",\"case11\",\"case12\",\"case13\",\"case14\",\"case15\",\"case16\",\"case17\",\"case18\",\"case19\",\"case20\",\"caase21\"]\n",
    "columns=[\"RMSE\",\"RMSE_N\"]"
   ]
  },
  {
   "cell_type": "code",
   "execution_count": 113,
   "id": "01437b6f",
   "metadata": {},
   "outputs": [],
   "source": [
    "d1 = {\"case\": case, \"RMSE\":RMSE, \"RMSE_N\" : RMSE_N }"
   ]
  },
  {
   "cell_type": "code",
   "execution_count": 114,
   "id": "74ef4634",
   "metadata": {},
   "outputs": [],
   "source": [
    "#panda dataframe\n",
    "df= pd.DataFrame(d1)\n",
    "df.to_excel(\"D:\\Maxim\\masterthesis\\YAK_TEST\\Dataframe_case.xlsx\") "
   ]
  },
  {
   "cell_type": "code",
   "execution_count": 115,
   "id": "16248a49",
   "metadata": {},
   "outputs": [
    {
     "data": {
      "text/html": [
       "<div>\n",
       "<style scoped>\n",
       "    .dataframe tbody tr th:only-of-type {\n",
       "        vertical-align: middle;\n",
       "    }\n",
       "\n",
       "    .dataframe tbody tr th {\n",
       "        vertical-align: top;\n",
       "    }\n",
       "\n",
       "    .dataframe thead th {\n",
       "        text-align: right;\n",
       "    }\n",
       "</style>\n",
       "<table border=\"1\" class=\"dataframe\">\n",
       "  <thead>\n",
       "    <tr style=\"text-align: right;\">\n",
       "      <th></th>\n",
       "      <th>case</th>\n",
       "      <th>RMSE</th>\n",
       "      <th>RMSE_N</th>\n",
       "    </tr>\n",
       "  </thead>\n",
       "  <tbody>\n",
       "    <tr>\n",
       "      <th>0</th>\n",
       "      <td>case1</td>\n",
       "      <td>0.006048</td>\n",
       "      <td>0.037113</td>\n",
       "    </tr>\n",
       "    <tr>\n",
       "      <th>1</th>\n",
       "      <td>case2</td>\n",
       "      <td>0.003731</td>\n",
       "      <td>0.021437</td>\n",
       "    </tr>\n",
       "    <tr>\n",
       "      <th>2</th>\n",
       "      <td>case3</td>\n",
       "      <td>0.001274</td>\n",
       "      <td>0.016512</td>\n",
       "    </tr>\n",
       "    <tr>\n",
       "      <th>3</th>\n",
       "      <td>case4</td>\n",
       "      <td>0.006493</td>\n",
       "      <td>0.041030</td>\n",
       "    </tr>\n",
       "    <tr>\n",
       "      <th>4</th>\n",
       "      <td>case5</td>\n",
       "      <td>0.001220</td>\n",
       "      <td>0.024821</td>\n",
       "    </tr>\n",
       "    <tr>\n",
       "      <th>5</th>\n",
       "      <td>case6</td>\n",
       "      <td>0.005886</td>\n",
       "      <td>0.012971</td>\n",
       "    </tr>\n",
       "    <tr>\n",
       "      <th>6</th>\n",
       "      <td>case7</td>\n",
       "      <td>0.003647</td>\n",
       "      <td>0.052266</td>\n",
       "    </tr>\n",
       "    <tr>\n",
       "      <th>7</th>\n",
       "      <td>case8</td>\n",
       "      <td>0.006493</td>\n",
       "      <td>0.041030</td>\n",
       "    </tr>\n",
       "    <tr>\n",
       "      <th>8</th>\n",
       "      <td>case9</td>\n",
       "      <td>0.005886</td>\n",
       "      <td>0.024821</td>\n",
       "    </tr>\n",
       "    <tr>\n",
       "      <th>9</th>\n",
       "      <td>case10</td>\n",
       "      <td>0.001220</td>\n",
       "      <td>0.012971</td>\n",
       "    </tr>\n",
       "    <tr>\n",
       "      <th>10</th>\n",
       "      <td>case11</td>\n",
       "      <td>0.003647</td>\n",
       "      <td>0.052266</td>\n",
       "    </tr>\n",
       "    <tr>\n",
       "      <th>11</th>\n",
       "      <td>case12</td>\n",
       "      <td>0.006493</td>\n",
       "      <td>0.041030</td>\n",
       "    </tr>\n",
       "    <tr>\n",
       "      <th>12</th>\n",
       "      <td>case13</td>\n",
       "      <td>0.005886</td>\n",
       "      <td>0.024821</td>\n",
       "    </tr>\n",
       "    <tr>\n",
       "      <th>13</th>\n",
       "      <td>case14</td>\n",
       "      <td>0.001220</td>\n",
       "      <td>0.012971</td>\n",
       "    </tr>\n",
       "    <tr>\n",
       "      <th>14</th>\n",
       "      <td>case15</td>\n",
       "      <td>0.003647</td>\n",
       "      <td>0.052266</td>\n",
       "    </tr>\n",
       "    <tr>\n",
       "      <th>15</th>\n",
       "      <td>case16</td>\n",
       "      <td>0.006493</td>\n",
       "      <td>0.041030</td>\n",
       "    </tr>\n",
       "    <tr>\n",
       "      <th>16</th>\n",
       "      <td>case17</td>\n",
       "      <td>0.016531</td>\n",
       "      <td>0.011632</td>\n",
       "    </tr>\n",
       "    <tr>\n",
       "      <th>17</th>\n",
       "      <td>case18</td>\n",
       "      <td>0.017301</td>\n",
       "      <td>0.014713</td>\n",
       "    </tr>\n",
       "    <tr>\n",
       "      <th>18</th>\n",
       "      <td>case19</td>\n",
       "      <td>0.001300</td>\n",
       "      <td>0.000720</td>\n",
       "    </tr>\n",
       "    <tr>\n",
       "      <th>19</th>\n",
       "      <td>case20</td>\n",
       "      <td>0.012612</td>\n",
       "      <td>0.009749</td>\n",
       "    </tr>\n",
       "    <tr>\n",
       "      <th>20</th>\n",
       "      <td>caase21</td>\n",
       "      <td>0.003261</td>\n",
       "      <td>0.066717</td>\n",
       "    </tr>\n",
       "  </tbody>\n",
       "</table>\n",
       "</div>"
      ],
      "text/plain": [
       "       case      RMSE    RMSE_N\n",
       "0     case1  0.006048  0.037113\n",
       "1     case2  0.003731  0.021437\n",
       "2     case3  0.001274  0.016512\n",
       "3     case4  0.006493  0.041030\n",
       "4     case5  0.001220  0.024821\n",
       "5     case6  0.005886  0.012971\n",
       "6     case7  0.003647  0.052266\n",
       "7     case8  0.006493  0.041030\n",
       "8     case9  0.005886  0.024821\n",
       "9    case10  0.001220  0.012971\n",
       "10   case11  0.003647  0.052266\n",
       "11   case12  0.006493  0.041030\n",
       "12   case13  0.005886  0.024821\n",
       "13   case14  0.001220  0.012971\n",
       "14   case15  0.003647  0.052266\n",
       "15   case16  0.006493  0.041030\n",
       "16   case17  0.016531  0.011632\n",
       "17   case18  0.017301  0.014713\n",
       "18   case19  0.001300  0.000720\n",
       "19   case20  0.012612  0.009749\n",
       "20  caase21  0.003261  0.066717"
      ]
     },
     "execution_count": 115,
     "metadata": {},
     "output_type": "execute_result"
    }
   ],
   "source": [
    "df"
   ]
  },
  {
   "cell_type": "markdown",
   "id": "dee30243",
   "metadata": {},
   "source": [
    "Find the best case"
   ]
  },
  {
   "cell_type": "code",
   "execution_count": 116,
   "id": "cfd76061",
   "metadata": {},
   "outputs": [
    {
     "data": {
      "text/plain": [
       "18"
      ]
     },
     "execution_count": 116,
     "metadata": {},
     "output_type": "execute_result"
    }
   ],
   "source": [
    "df[\"RMSE_N\"].idxmin()"
   ]
  }
 ],
 "metadata": {
  "kernelspec": {
   "display_name": "Python 3",
   "language": "python",
   "name": "python3"
  },
  "language_info": {
   "codemirror_mode": {
    "name": "ipython",
    "version": 3
   },
   "file_extension": ".py",
   "mimetype": "text/x-python",
   "name": "python",
   "nbconvert_exporter": "python",
   "pygments_lexer": "ipython3",
   "version": "3.7.11"
  }
 },
 "nbformat": 4,
 "nbformat_minor": 5
}
